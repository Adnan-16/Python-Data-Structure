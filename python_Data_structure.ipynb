{
  "cells": [
    {
      "cell_type": "markdown",
      "id": "e2d87456-19d1-46f5-9980-830a645fc4cd",
      "metadata": {
        "id": "e2d87456-19d1-46f5-9980-830a645fc4cd"
      },
      "source": [
        "1) What are data structures and why are they important ?\n",
        "   - Data structures are specialized formats for organizing, storing and acessing collections of data. They provide efficient ways to manage information based on it's characteristics and intended use.\n",
        "    They are important because -\n",
        "     a) Choosing the right data structure significantly impacts the efficeincy and performanc of the program.\n",
        "     b) Well- chosen data structures can.\n",
        "     c) Simplify data manipulation ( adding, removing, modifying elements).\n",
        "     d) Optimize searching and sorting operations.\n",
        "     e) Conserve memory usage.\n",
        "\n",
        "2) Explain the difference between mutable and immutable data types with examples.\n",
        "      - Mutable objects can be modified after they are created. Examples : list, dictionary,set.\n",
        "      Immutable objects cannot be modified after they are created. Examples : String, tuple.\n",
        "\n",
        "3) What are the main differences between lists and tuples in python ?\n",
        "   - Lists are mutable and enclosed by \"[ ]\" whereas tuples are immutable and enclosed by \"( )\" .\n",
        "\n",
        "4) Describe how dictionaries store data.\n",
        "  - Dictionaries in python store data in the form of key-value pair.\n",
        "\n",
        "5) Why might you use a set instead of a list in python ?\n",
        "   - We might use a set instead of a list in python as set does not allow duplication of elements.\n",
        "\n",
        "6) What is a string in python and how is it different from a list ?\n",
        "   -  String in python is a sequence of character to represent and manipulated textual data. It is different from a list as string is immutable and not enclosed by square brackets.\n",
        "\n",
        "7) How do tuples ensure data integrity in python ?\n",
        "  - As tuples are immutable, so this characteristic of it ensures data integrity in python.\n",
        "\n",
        "8) What is a hash table and how does it relate to dictionaries in python ?\n",
        "  - A hash table is a data structure that maps keys to values using a hash function to compute an index into an array of buckets or slots. It relates to dictionaries in python as dictionaries are implemented using hash tables.\n",
        "\n",
        "9) Can lists contain different data types in python ?\n",
        "   - Yes, list can contain different data types in python.\n",
        "\n",
        "10) Explain why strings are immutable in python ?\n",
        "   - Strings are immutable in python as after their creation , they cannot be changed. Immutablity helps with performance optimatization, memory efficiency and thread safety.\n",
        "\n",
        "11) What advantages do dictionaries offer over lists for certain tasks ?\n",
        "   - The advantages do dictionaries offer over lists for certain tasks as dictionaries store data in the form of key-value pair and also dictionaries are more readable and descriptive.\n",
        "\n",
        "12) Describe a scenario where using a tuple would be prefferable over a list.\n",
        "   - A tuple would be prefferable over a list as tuple is immutable , so it can be used when the data is constant and should not be accidently modified.\n",
        "\n",
        "13) How do sets handle duplicate values in python ?\n",
        "  - Sets in python handle duplicate values by automatically eliminate duplicate values as all elements in it must be unique.\n",
        "\n",
        "14) How does the \"in\" keyword work differently for lists and dictionaries ?\n",
        "    - The \"in\" keyword  for list checks if a value exits in the lists whereas \"in\" checks if a key exits in dictionary (not the value ).\n",
        "\n",
        "15) Can you modify the elements of a tuple ? Explain why or why not.\n",
        "   -  Elements of a tuple cannot be modify as tuple is immutable as once they are created , cannot be changed.\n",
        "\n",
        "16) What is nested dictionary and an example of its use cases ?\n",
        "    -  Nested dictionary means dictionary inside a dictionary.\n",
        "     Example of it's use case-  pupil= {\"user1\":{\"name\":\"A\",\"age\":20},\"user2\":{\"name\":\"B\",\"age\":24}}\n",
        "\n",
        "17) Describe the time complexity of accessing elements in the dictionary.\n",
        "   - The time complexity of accessing elements in the dictionary is , on average,O(1)\n",
        "\n",
        "18) In what situations are lists preffered over dictionaries ?\n",
        "   - When data naturally fits a sequence ,where order and positional access are important and duplicates are acceptable, in this list is the preffered over dictionary.\n",
        "\n",
        "19) Why are dictionaries considered unordered and how does that affect data retrieval ?\n",
        "    - Dictionaries are considered unordered because items do not have a defined order, cannot refer to an item by using an index. We cannot retrieve the items by using integer indices like my_dict[0] , then we must know the exact key to retrive it's associated value. Data retrieval is inherently driven by the key.\n",
        "\n",
        "20) Explain the difference between a list and a dictionary in terms of data retrieval.\n",
        "  - A list is an ordered collection of elements,where elements are accessed by using their index(position) and here time complexity is O(1) (constant time). A dictionary is an unordered collection of key-value pairs , where items are accessed using a unique key(not position) and here time complexity is on average is O(1)."
      ]
    },
    {
      "cell_type": "code",
      "execution_count": null,
      "id": "49055c2c-302e-4839-9671-911627f13a08",
      "metadata": {
        "id": "49055c2c-302e-4839-9671-911627f13a08",
        "outputId": "5157c1ba-cacb-446b-ed7a-e9b461df4a54"
      },
      "outputs": [
        {
          "name": "stdout",
          "output_type": "stream",
          "text": [
            "Adnan\n"
          ]
        }
      ],
      "source": [
        "#1 Write a code to create a string with your name and print it\n",
        "\n",
        "my_name = \"Adnan\"\n",
        "print(my_name)"
      ]
    },
    {
      "cell_type": "code",
      "execution_count": null,
      "id": "9f96e46e-30d7-44e0-9054-5eff0eb94449",
      "metadata": {
        "id": "9f96e46e-30d7-44e0-9054-5eff0eb94449",
        "outputId": "57ce8c7b-5838-468c-f3ef-67774a6a0e83"
      },
      "outputs": [
        {
          "data": {
            "text/plain": [
              "11"
            ]
          },
          "execution_count": 2,
          "metadata": {},
          "output_type": "execute_result"
        }
      ],
      "source": [
        "#2 Write a code to find the length of string \" Hello World\"\n",
        "\n",
        "string = \"Hello World\"\n",
        "len(string)"
      ]
    },
    {
      "cell_type": "code",
      "execution_count": null,
      "id": "2617e7a2-2cd7-4274-949e-fda22dd3e12d",
      "metadata": {
        "id": "2617e7a2-2cd7-4274-949e-fda22dd3e12d",
        "outputId": "ec28a260-a8b3-42e6-ccaf-98c654ca3180"
      },
      "outputs": [
        {
          "data": {
            "text/plain": [
              "'pyt'"
            ]
          },
          "execution_count": 2,
          "metadata": {},
          "output_type": "execute_result"
        }
      ],
      "source": [
        "#3 Write a code to slice the first three characters from the string \" python programming\"\n",
        "\n",
        "a= \"python programming\"\n",
        "a[:3]"
      ]
    },
    {
      "cell_type": "code",
      "execution_count": null,
      "id": "42389b6a-6186-4542-bcb4-b78e4759defb",
      "metadata": {
        "id": "42389b6a-6186-4542-bcb4-b78e4759defb",
        "outputId": "7ed4d999-71a4-434f-81b7-7b1a5616ca82"
      },
      "outputs": [
        {
          "data": {
            "text/plain": [
              "'HELLO'"
            ]
          },
          "execution_count": 4,
          "metadata": {},
          "output_type": "execute_result"
        }
      ],
      "source": [
        "#4 Write a code to convert string \"hello\" to uppercase\n",
        "\n",
        "b=\"hello\"\n",
        "b.upper()"
      ]
    },
    {
      "cell_type": "code",
      "execution_count": null,
      "id": "dc1349d4-fb92-442a-a87c-24b96f85e980",
      "metadata": {
        "id": "dc1349d4-fb92-442a-a87c-24b96f85e980",
        "outputId": "45cd6802-bfa2-4c95-8dfe-57cb74820a0f"
      },
      "outputs": [
        {
          "data": {
            "text/plain": [
              "'I like orange'"
            ]
          },
          "execution_count": 5,
          "metadata": {},
          "output_type": "execute_result"
        }
      ],
      "source": [
        "#5 Write a code to replace the word 'apple' with 'orange' the string \" I like apple\"\n",
        "\n",
        "Fruit = \"I like apple\"\n",
        "Fruit.replace(\"apple\", \"orange\")"
      ]
    },
    {
      "cell_type": "code",
      "execution_count": null,
      "id": "6ff381ca-5fce-4afa-b14d-966daf9d7424",
      "metadata": {
        "id": "6ff381ca-5fce-4afa-b14d-966daf9d7424",
        "outputId": "3819668f-9d5b-4a74-ca5e-bbd446d90f8c"
      },
      "outputs": [
        {
          "data": {
            "text/plain": [
              "[1, 2, 3, 4, 5]"
            ]
          },
          "execution_count": 6,
          "metadata": {},
          "output_type": "execute_result"
        }
      ],
      "source": [
        "#6 Write a code to create a list with numbers 1 to 5 and print it\n",
        "\n",
        "num = [1,2,3,4,5]\n",
        "num"
      ]
    },
    {
      "cell_type": "code",
      "execution_count": null,
      "id": "66ee43a3-1764-4306-869d-748e12a935a0",
      "metadata": {
        "id": "66ee43a3-1764-4306-869d-748e12a935a0",
        "outputId": "ca5a2d7b-a0d2-47a8-d439-d54b57a73b80"
      },
      "outputs": [
        {
          "name": "stdout",
          "output_type": "stream",
          "text": [
            "[1, 2, 3, 4, 10]\n"
          ]
        }
      ],
      "source": [
        "#7 Write a code to append number 10 to the list [1,2,3,4]\n",
        "\n",
        "num = [1,2,3,4]\n",
        "num.append(10)\n",
        "print(num)"
      ]
    },
    {
      "cell_type": "code",
      "execution_count": null,
      "id": "1bbd1c7a-7eaa-47f7-93da-9a09233ccd97",
      "metadata": {
        "id": "1bbd1c7a-7eaa-47f7-93da-9a09233ccd97",
        "outputId": "9989a073-acfa-428d-974d-1218970357be"
      },
      "outputs": [
        {
          "name": "stdout",
          "output_type": "stream",
          "text": [
            "[1, 2, 4, 5]\n"
          ]
        }
      ],
      "source": [
        "#8 Write a code to remove 3 from the list [1,2,3,4,5]\n",
        "\n",
        "list = [1,2,3,4,5]\n",
        "list.remove(3)\n",
        "print(list)"
      ]
    },
    {
      "cell_type": "code",
      "execution_count": null,
      "id": "e401f90a-1aaa-4680-adec-a4c63550d41b",
      "metadata": {
        "id": "e401f90a-1aaa-4680-adec-a4c63550d41b",
        "outputId": "cb5d956e-9f34-4dfa-8124-71d555ac8d0a"
      },
      "outputs": [
        {
          "data": {
            "text/plain": [
              "'b'"
            ]
          },
          "execution_count": 9,
          "metadata": {},
          "output_type": "execute_result"
        }
      ],
      "source": [
        "#9 Write a code to access thye second element in the list ['a', 'b' ,'c' , 'd']\n",
        "\n",
        "alpha = ['a', 'b' , 'c' , 'd']\n",
        "alpha[1]"
      ]
    },
    {
      "cell_type": "code",
      "execution_count": null,
      "id": "f7bf879a-381b-4294-a795-601789975c97",
      "metadata": {
        "id": "f7bf879a-381b-4294-a795-601789975c97",
        "outputId": "bca3e0c3-57d8-4055-bbd6-ccf3b81ea699"
      },
      "outputs": [
        {
          "data": {
            "text/plain": [
              "[50, 40, 30, 20, 10]"
            ]
          },
          "execution_count": 10,
          "metadata": {},
          "output_type": "execute_result"
        }
      ],
      "source": [
        "#10 Write a code to reverse list [ 10,20,30,40,50]\n",
        "\n",
        "list = [10,20,30,40,50]\n",
        "list[::-1]"
      ]
    },
    {
      "cell_type": "code",
      "execution_count": null,
      "id": "0eb28844-5b8b-431e-aa46-460f23f0b1a8",
      "metadata": {
        "id": "0eb28844-5b8b-431e-aa46-460f23f0b1a8",
        "outputId": "4b2d2db5-79df-4d8a-d2ba-f15adfd6142a"
      },
      "outputs": [
        {
          "name": "stdout",
          "output_type": "stream",
          "text": [
            "(100, 200, 300)\n"
          ]
        }
      ],
      "source": [
        "#11 Write a code to create a tuple with elements 100,200,300 and print it\n",
        "\n",
        "tuple=(100,200,300)\n",
        "print(tuple)"
      ]
    },
    {
      "cell_type": "code",
      "execution_count": null,
      "id": "fff7976b-100f-4f08-882e-75909f4ab75e",
      "metadata": {
        "id": "fff7976b-100f-4f08-882e-75909f4ab75e",
        "outputId": "4931a262-99b6-47e5-fd9c-fb7ed4819eb1"
      },
      "outputs": [
        {
          "data": {
            "text/plain": [
              "('green', 'blue', 'yellow')"
            ]
          },
          "execution_count": 12,
          "metadata": {},
          "output_type": "execute_result"
        }
      ],
      "source": [
        "#12 Write a code to access second to last element of the tuple ( 'red', 'green', 'blue', 'yellow')\n",
        "\n",
        "color = ('red', 'green' , 'blue' ,'yellow')\n",
        "color[1:]"
      ]
    },
    {
      "cell_type": "code",
      "execution_count": null,
      "id": "060fdc2c-964f-4d25-b90b-d191241f393e",
      "metadata": {
        "id": "060fdc2c-964f-4d25-b90b-d191241f393e",
        "outputId": "d6fe9283-1f04-42b5-edeb-4ebbebd140da"
      },
      "outputs": [
        {
          "data": {
            "text/plain": [
              "5"
            ]
          },
          "execution_count": 13,
          "metadata": {},
          "output_type": "execute_result"
        }
      ],
      "source": [
        "#13 Write a code to find minimum number in tuple (10,20,5,15)\n",
        "\n",
        "num = (10,20,5,15)\n",
        "min(num)"
      ]
    },
    {
      "cell_type": "code",
      "execution_count": null,
      "id": "ea1871d4-504c-49c9-80a2-7f5ae30f111b",
      "metadata": {
        "id": "ea1871d4-504c-49c9-80a2-7f5ae30f111b",
        "outputId": "35b51d7e-d755-4dbd-e461-d135cdc9a90e"
      },
      "outputs": [
        {
          "data": {
            "text/plain": [
              "1"
            ]
          },
          "execution_count": 14,
          "metadata": {},
          "output_type": "execute_result"
        }
      ],
      "source": [
        "#14 Write a code to find the index of element 'cat' in tuple ('dog','cat','rabbit')\n",
        "\n",
        "pet = ('dog','cat','rabbit')\n",
        "pet.index('cat')"
      ]
    },
    {
      "cell_type": "code",
      "execution_count": null,
      "id": "fa691059-9a1c-44dd-b0b6-38c38b2c1e35",
      "metadata": {
        "id": "fa691059-9a1c-44dd-b0b6-38c38b2c1e35",
        "outputId": "b28a9912-9f65-46db-a02c-a23a54a953a7"
      },
      "outputs": [
        {
          "data": {
            "text/plain": [
              "True"
            ]
          },
          "execution_count": 15,
          "metadata": {},
          "output_type": "execute_result"
        }
      ],
      "source": [
        "#15 Write a code to create tuple containing three differnt fruits and check if 'kiwi' is in it\n",
        "\n",
        "fruits =('apple','kiwi','orange')\n",
        "'kiwi' in fruits\n"
      ]
    },
    {
      "cell_type": "code",
      "execution_count": null,
      "id": "a9e3522f-d96c-4a97-aa5e-7fd81511aa3f",
      "metadata": {
        "id": "a9e3522f-d96c-4a97-aa5e-7fd81511aa3f",
        "outputId": "3474983c-ca5d-428a-de23-201bdf02894a"
      },
      "outputs": [
        {
          "name": "stdout",
          "output_type": "stream",
          "text": [
            "{'c', 'b', 'a'}\n"
          ]
        }
      ],
      "source": [
        "#16 Write a code to create a set with elements 'a','b','c' and print it\n",
        "\n",
        "set = {'a','b','c'}\n",
        "print(set)"
      ]
    },
    {
      "cell_type": "code",
      "execution_count": null,
      "id": "79c76882-8564-48a6-b869-8dd0ded49ca9",
      "metadata": {
        "id": "79c76882-8564-48a6-b869-8dd0ded49ca9",
        "outputId": "28b147ee-7211-4532-86ab-b5e47b839c1b"
      },
      "outputs": [
        {
          "name": "stdout",
          "output_type": "stream",
          "text": [
            "set()\n"
          ]
        }
      ],
      "source": [
        "#17 Write a code to clear all elements from the set {1,2,3,4,5}\n",
        "\n",
        "s = {1,2,3,4,5}\n",
        "s.clear()\n",
        "print(s)"
      ]
    },
    {
      "cell_type": "code",
      "execution_count": null,
      "id": "f4679fb4-178d-4534-b651-23b8a0612af1",
      "metadata": {
        "id": "f4679fb4-178d-4534-b651-23b8a0612af1",
        "outputId": "7a0c248b-8050-4a09-c2c0-915607444eee"
      },
      "outputs": [
        {
          "name": "stdout",
          "output_type": "stream",
          "text": [
            "{1, 2, 3}\n"
          ]
        }
      ],
      "source": [
        "#18 Write a code to remove the element 4 from set {1,2,3,4}\n",
        "\n",
        "s = {1,2,3,4}\n",
        "s.remove(4)\n",
        "print(s)\n"
      ]
    },
    {
      "cell_type": "code",
      "execution_count": null,
      "id": "af4e2e86-3369-4be2-8acb-e8b4684411f2",
      "metadata": {
        "id": "af4e2e86-3369-4be2-8acb-e8b4684411f2",
        "outputId": "3ab13cce-b74a-4f3f-8618-049cd4cfcc66"
      },
      "outputs": [
        {
          "data": {
            "text/plain": [
              "{1, 2, 3, 4, 5}"
            ]
          },
          "execution_count": 24,
          "metadata": {},
          "output_type": "execute_result"
        }
      ],
      "source": [
        "#19 Write a code to find the union of two sets {1,2,3} and {3,4,5}\n",
        "\n",
        "s1 = {1,2,3}\n",
        "s2 = {3,4,5}\n",
        "s1 | s2"
      ]
    },
    {
      "cell_type": "code",
      "execution_count": null,
      "id": "dc19016c-0b42-4c78-a7b4-56732eb70589",
      "metadata": {
        "id": "dc19016c-0b42-4c78-a7b4-56732eb70589",
        "outputId": "3fe89cd7-7943-4cae-b6af-bf68f009355f"
      },
      "outputs": [
        {
          "data": {
            "text/plain": [
              "{2, 3}"
            ]
          },
          "execution_count": 25,
          "metadata": {},
          "output_type": "execute_result"
        }
      ],
      "source": [
        "#20 Write a code to find the intersection of two sets {1,2,3} and {2,3,4}\n",
        "\n",
        "s1 = {1,2,3}\n",
        "s2 ={2,3,4}\n",
        "s1 & s2\n"
      ]
    },
    {
      "cell_type": "code",
      "execution_count": null,
      "id": "0d606346-dd2e-4f40-b786-d784ff4f98b3",
      "metadata": {
        "id": "0d606346-dd2e-4f40-b786-d784ff4f98b3",
        "outputId": "1a16dcbb-f33b-4058-d615-150284077ae4"
      },
      "outputs": [
        {
          "name": "stdout",
          "output_type": "stream",
          "text": [
            "{'name': 'John', 'age': 22, 'city': 'Hyderabad'}\n"
          ]
        }
      ],
      "source": [
        "#21 Write a code to create a dictionary with keys 'name','age' and 'city' and print it\n",
        "\n",
        "dict ={\"name\":\"John\",\"age\":22,\"city\":\"Hyderabad\"}\n",
        "print(dict)"
      ]
    },
    {
      "cell_type": "code",
      "execution_count": null,
      "id": "b5b8174d-a2ff-4a80-a5e2-e67612bbf821",
      "metadata": {
        "id": "b5b8174d-a2ff-4a80-a5e2-e67612bbf821",
        "outputId": "fb32aca0-65ae-430b-e9b6-9d51aa1e2533"
      },
      "outputs": [
        {
          "name": "stdout",
          "output_type": "stream",
          "text": [
            "{'name': 'John', 'age': 25, 'country': 'USA'}\n"
          ]
        }
      ],
      "source": [
        "#22 Write a code to add a new key-value \"country\":USA\" to the dictionary {'name':'John','age':25}\n",
        "\n",
        "dict = {'name':'John','age':25}\n",
        "dict['country'] ='USA'\n",
        "print(dict)\n",
        "\n"
      ]
    },
    {
      "cell_type": "code",
      "execution_count": null,
      "id": "b9fce9a6-72bf-4317-9769-89211c1e953b",
      "metadata": {
        "id": "b9fce9a6-72bf-4317-9769-89211c1e953b",
        "outputId": "2391a8af-2bf4-46f3-d603-94d49a2e2d2f"
      },
      "outputs": [
        {
          "data": {
            "text/plain": [
              "'Alice'"
            ]
          },
          "execution_count": 43,
          "metadata": {},
          "output_type": "execute_result"
        }
      ],
      "source": [
        "#23 Write a code to access the value associated with key 'name' in the dictionary {'name':'Alice','age':30}\n",
        "\n",
        "d = {'name':'Alice','age':30}\n",
        "d.get('name')\n"
      ]
    },
    {
      "cell_type": "code",
      "execution_count": null,
      "id": "7a4d2aaf-3eca-4af5-93dc-5ce3d28c97bd",
      "metadata": {
        "id": "7a4d2aaf-3eca-4af5-93dc-5ce3d28c97bd",
        "outputId": "088c8d89-eaea-4bc8-c2d9-061aafa75758"
      },
      "outputs": [
        {
          "name": "stdout",
          "output_type": "stream",
          "text": [
            "{'name': 'Bob', 'city': 'New York'}\n"
          ]
        }
      ],
      "source": [
        "#24 Write a code to remove 'age' from dictionary {'name':'Bob','age':22,'city':'New York'}\n",
        "\n",
        "detail = {'name':'Bob','age':22,'city':'New York'}\n",
        "del detail['age']\n",
        "print(detail)\n",
        "\n"
      ]
    },
    {
      "cell_type": "code",
      "execution_count": null,
      "id": "f61bbfa0-506f-4433-9b1c-7dcc7f827ae8",
      "metadata": {
        "id": "f61bbfa0-506f-4433-9b1c-7dcc7f827ae8",
        "outputId": "46cc44ce-7c93-474d-8b10-b94b509d4866"
      },
      "outputs": [
        {
          "data": {
            "text/plain": [
              "True"
            ]
          },
          "execution_count": 53,
          "metadata": {},
          "output_type": "execute_result"
        }
      ],
      "source": [
        "#25 Write a code to check if the key 'city' exits in dictionary {'name':'Alice','city':'Paris'}\n",
        "\n",
        "d = {'name':'Alice','city':'Paris'}\n",
        "'city' in d"
      ]
    },
    {
      "cell_type": "code",
      "execution_count": null,
      "id": "2f64180e-abfb-4ada-9aa4-9b0fae770871",
      "metadata": {
        "id": "2f64180e-abfb-4ada-9aa4-9b0fae770871",
        "outputId": "29c453f7-aefe-4763-8f8b-869f90902143"
      },
      "outputs": [
        {
          "name": "stdout",
          "output_type": "stream",
          "text": [
            "[1, 2, 3, 4]\n",
            "('c', 'd', 'e', 'f')\n",
            "{'course': 'da', 'duration': '1 year'}\n"
          ]
        }
      ],
      "source": [
        "#26 Write a code to create list, tuple and dictionary and print them all\n",
        "\n",
        "l = [1,2,3,4]\n",
        "t = ('c','d','e','f')\n",
        "d = {'course':'da','duration':'1 year'}\n",
        "print(l)\n",
        "print(t)\n",
        "print(d)"
      ]
    },
    {
      "cell_type": "code",
      "execution_count": null,
      "id": "9069372c-b0df-4440-82d5-0a1121532c88",
      "metadata": {
        "id": "9069372c-b0df-4440-82d5-0a1121532c88",
        "outputId": "328415dd-81c8-4eef-c804-fd4ad0247619"
      },
      "outputs": [
        {
          "data": {
            "text/plain": [
              "[4, 31, 45, 87, 99]"
            ]
          },
          "execution_count": 57,
          "metadata": {},
          "output_type": "execute_result"
        }
      ],
      "source": [
        "#27 Write a code to create a list of 5 random numbers between 1 and 100 , sort it in ascending order and print the result\n",
        "\n",
        "l = [4,87,99,45,31]\n",
        "sorted(l)\n",
        "\n"
      ]
    },
    {
      "cell_type": "code",
      "execution_count": null,
      "id": "396ad37d-30ae-4956-9b72-834f74a8c7ef",
      "metadata": {
        "id": "396ad37d-30ae-4956-9b72-834f74a8c7ef",
        "outputId": "12081ccf-c3dd-43cc-a187-fd7eb4624b2e"
      },
      "outputs": [
        {
          "data": {
            "text/plain": [
              "'continent'"
            ]
          },
          "execution_count": 58,
          "metadata": {},
          "output_type": "execute_result"
        }
      ],
      "source": [
        "#28 Write a code to create a list with strings and print element at the third index\n",
        "\n",
        "l = ['city','state','country','continent','planet']\n",
        "l[3]\n",
        "\n"
      ]
    },
    {
      "cell_type": "code",
      "execution_count": null,
      "id": "315c7658-817c-46f7-adea-ecbad98dbd49",
      "metadata": {
        "id": "315c7658-817c-46f7-adea-ecbad98dbd49",
        "outputId": "ebc8f3f0-e79b-4073-a7e7-5c6154e28c8e"
      },
      "outputs": [
        {
          "name": "stdout",
          "output_type": "stream",
          "text": [
            "{'name': 'A', 'age': 5, 'city': 'Cuttack', 'state': 'Odisha'}\n"
          ]
        }
      ],
      "source": [
        "#29 Write a code to combine two dictionaries into one and print the result\n",
        "\n",
        "d1 = {'name':'A','age':5}\n",
        "d2 = {'city':'Cuttack','state':'Odisha'}\n",
        "d1.update(d2)\n",
        "print(d1)"
      ]
    },
    {
      "cell_type": "code",
      "execution_count": null,
      "id": "7053cce4-6a0f-4a77-83ca-df01734995a6",
      "metadata": {
        "id": "7053cce4-6a0f-4a77-83ca-df01734995a6",
        "outputId": "d4a9f2ae-0ed4-4218-b99c-7c26f2cf21b5"
      },
      "outputs": [
        {
          "data": {
            "text/plain": [
              "{'brinjal', 'potato', 'pumpkin', 'tomato'}"
            ]
          },
          "execution_count": 1,
          "metadata": {},
          "output_type": "execute_result"
        }
      ],
      "source": [
        "#30 Write a code to convert a list of strings into a set\n",
        "\n",
        "veg = ['potato','brinjal','tomato','pumpkin','brinjal']\n",
        "veg1 = set(veg)\n",
        "veg1"
      ]
    }
  ],
  "metadata": {
    "kernelspec": {
      "display_name": "Python 3 (ipykernel)",
      "language": "python",
      "name": "python3"
    },
    "language_info": {
      "codemirror_mode": {
        "name": "ipython",
        "version": 3
      },
      "file_extension": ".py",
      "mimetype": "text/x-python",
      "name": "python",
      "nbconvert_exporter": "python",
      "pygments_lexer": "ipython3",
      "version": "3.13.3"
    },
    "colab": {
      "provenance": []
    }
  },
  "nbformat": 4,
  "nbformat_minor": 5
}